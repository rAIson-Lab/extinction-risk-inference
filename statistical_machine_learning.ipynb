{
 "cells": [
  {
   "cell_type": "code",
   "execution_count": 7,
   "id": "9a2094c1",
   "metadata": {},
   "outputs": [],
   "source": [
    "import sys, os, random\n",
    "sys.path.append(os.path.join(os.getcwd(), 'CONFOLD')) #add CONFOLD to path\n",
    "\n",
    "import numpy as np\n",
    "from sklearn.metrics import accuracy_score, confusion_matrix, classification_report\n",
    "from sklearn.model_selection import train_test_split\n",
    "import pandas as pd\n",
    "\n",
    "from foldrm import Classifier\n",
    "from utils import split_data # Or your stratified version if you prefer\n",
    "from ModifiedClass import  extinction_birds2 # Our new function\n",
    "\n",
    "from sklearn.ensemble import RandomForestClassifier\n",
    "from sklearn.tree import DecisionTreeClassifier\n",
    "from sklearn.metrics import accuracy_score"
   ]
  },
  {
   "cell_type": "code",
   "execution_count": 8,
   "id": "cd7345a5",
   "metadata": {},
   "outputs": [],
   "source": [
    "random.seed(42)"
   ]
  },
  {
   "cell_type": "code",
   "execution_count": 13,
   "id": "ac1540d2",
   "metadata": {},
   "outputs": [
    {
     "name": "stdout",
     "output_type": "stream",
     "text": [
      "<class 'pandas.core.frame.DataFrame'>\n",
      "RangeIndex: 8345 entries, 0 to 8344\n",
      "Data columns (total 49 columns):\n",
      " #   Column                     Non-Null Count  Dtype  \n",
      "---  ------                     --------------  -----  \n",
      " 0   IslandEndemic              8345 non-null   object \n",
      " 1   Mass                       8345 non-null   float64\n",
      " 2   HWI                        8345 non-null   float64\n",
      " 3   Habitat.x                  8345 non-null   object \n",
      " 4   Beak.Length.culmen         8345 non-null   float64\n",
      " 5   Beak.Length.nares          8345 non-null   float64\n",
      " 6   Beak.Width                 8345 non-null   float64\n",
      " 7   Beak.Depth                 8345 non-null   float64\n",
      " 8   Tarsus.Length              8345 non-null   float64\n",
      " 9   Wing.Length                8345 non-null   float64\n",
      " 10  Kipps.Distance             8345 non-null   float64\n",
      " 11  Secondary1                 8345 non-null   float64\n",
      " 12  Tail.Length                8345 non-null   float64\n",
      " 13  LogRangeSize               8345 non-null   float64\n",
      " 14  Diet                       8345 non-null   object \n",
      " 15  Foraging                   8345 non-null   object \n",
      " 16  Migration                  8345 non-null   object \n",
      " 17  MatingSystem               8345 non-null   object \n",
      " 18  NestPlacement              8345 non-null   object \n",
      " 19  Territoriality             8345 non-null   object \n",
      " 20  IslandDwelling             8345 non-null   object \n",
      " 21  LogClutchSize              8345 non-null   float64\n",
      " 22  LogNightLights             8345 non-null   float64\n",
      " 23  LogHumanPopulationDensity  8345 non-null   float64\n",
      " 24  Extinct_full               8273 non-null   float64\n",
      " 25  Extinct_partial            8273 non-null   float64\n",
      " 26  Marine_full                8273 non-null   float64\n",
      " 27  Marine_partial             8273 non-null   float64\n",
      " 28  Migr_dir_full              8263 non-null   float64\n",
      " 29  Migr_dir_partial           8263 non-null   float64\n",
      " 30  Migr_dir_local             8263 non-null   float64\n",
      " 31  Migr_disp_full             8263 non-null   float64\n",
      " 32  Migr_disp_partial          8263 non-null   float64\n",
      " 33  Migr_disp_local            8263 non-null   float64\n",
      " 34  Migr_altitudinal           8263 non-null   float64\n",
      " 35  Irruptive                  8263 non-null   float64\n",
      " 36  Nomad_full                 8263 non-null   float64\n",
      " 37  Nomad_partial              8263 non-null   float64\n",
      " 38  Nomad_local                8263 non-null   float64\n",
      " 39  Resid_full                 8263 non-null   float64\n",
      " 40  Resid_partial              8263 non-null   float64\n",
      " 41  Unknown                    8273 non-null   float64\n",
      " 42  Uncertain                  8263 non-null   float64\n",
      " 43  Migratory_status           8273 non-null   object \n",
      " 44  Migratory_status_2         8273 non-null   object \n",
      " 45  Migratory_status_3         8273 non-null   object \n",
      " 46  LogBodyMass                8345 non-null   float64\n",
      " 47  RedlistCategory            8345 non-null   object \n",
      " 48  Threat                     8345 non-null   int64  \n",
      "dtypes: float64(35), int64(1), object(13)\n",
      "memory usage: 3.1+ MB\n",
      "None\n"
     ]
    }
   ],
   "source": [
    "model, data = extinction_birds2()\n",
    "\n",
    "print(data.info())\n",
    "\n",
    "data_dummies = pd.get_dummies(data)"
   ]
  },
  {
   "cell_type": "code",
   "execution_count": 14,
   "id": "f78fe84b",
   "metadata": {},
   "outputs": [],
   "source": [
    "#X = data.drop('Threat', axis=1).values.tolist()\n",
    "X = data[model.numeric].values.tolist()\n",
    "y = data['Threat'].values.tolist()\n",
    "\n",
    "X_train, X_test, y_train, y_test = train_test_split(\n",
    "    X, y, test_size=0.2, random_state=42)"
   ]
  },
  {
   "cell_type": "code",
   "execution_count": 17,
   "id": "e7e7f50f",
   "metadata": {},
   "outputs": [
    {
     "name": "stdout",
     "output_type": "stream",
     "text": [
      "Accuracy: 0.88\n"
     ]
    }
   ],
   "source": [
    "clf = DecisionTreeClassifier(max_depth=4, random_state=0)\n",
    "clf.fit(X_train, y_train)\n",
    "\n",
    "y_pred = clf.predict(X_test)\n",
    "accuracy = accuracy_score(y_test, y_pred)\n",
    "print(f\"Accuracy: {accuracy:.2f}\")"
   ]
  },
  {
   "cell_type": "code",
   "execution_count": 18,
   "id": "226b42d9",
   "metadata": {},
   "outputs": [
    {
     "name": "stdout",
     "output_type": "stream",
     "text": [
      "Accuracy: 0.88\n"
     ]
    }
   ],
   "source": [
    "clf = RandomForestClassifier(max_depth=4, random_state=0)\n",
    "clf.fit(X_train, y_train)\n",
    "\n",
    "y_pred = clf.predict(X_test)\n",
    "accuracy = accuracy_score(y_test, y_pred)\n",
    "print(f\"Accuracy: {accuracy:.2f}\")"
   ]
  }
 ],
 "metadata": {
  "kernelspec": {
   "display_name": "confold",
   "language": "python",
   "name": "python3"
  },
  "language_info": {
   "codemirror_mode": {
    "name": "ipython",
    "version": 3
   },
   "file_extension": ".py",
   "mimetype": "text/x-python",
   "name": "python",
   "nbconvert_exporter": "python",
   "pygments_lexer": "ipython3",
   "version": "3.13.7"
  }
 },
 "nbformat": 4,
 "nbformat_minor": 5
}
