{
 "cells": [
  {
   "cell_type": "code",
   "execution_count": 1,
   "id": "9a2094c1",
   "metadata": {},
   "outputs": [],
   "source": [
    "import sys, os, random\n",
    "sys.path.append(os.path.join(os.getcwd(), 'CONFOLD')) #add CONFOLD to path\n",
    "\n",
    "import numpy as np\n",
    "from sklearn.metrics import accuracy_score, confusion_matrix, classification_report\n",
    "import pandas as pd\n",
    "\n",
    "from foldrm import Classifier\n",
    "from utils import split_data # Or your stratified version if you prefer\n",
    "from datasets import extinction_birds # Our new function\n",
    "\n",
    "from sklearn.ensemble import RandomForestClassifier\n",
    "from sklearn.tree import DecisionTreeClassifier\n",
    "from sklearn.metrics import accuracy_score"
   ]
  },
  {
   "cell_type": "code",
   "execution_count": 2,
   "id": "cd7345a5",
   "metadata": {},
   "outputs": [],
   "source": [
    "random.seed(42)"
   ]
  },
  {
   "cell_type": "code",
   "execution_count": 3,
   "id": "2c838d68",
   "metadata": {},
   "outputs": [
    {
     "name": "stdout",
     "output_type": "stream",
     "text": [
      "18\n"
     ]
    }
   ],
   "source": [
    "nums = ['Mass', 'HWI','Beak.Length.culmen','Beak.Length.nares','Beak.Width','Beak.Depth','Tarsus.Length',\n",
    "            'Wing.Length','Kipps.Distance','Secondary1','Tail.Length','RedlistCategory','Threat','LogRangeSize',\n",
    "            'LogBodyMass','LogClutchSize','LogNightLights','LogHumanPopulationDensity']\n",
    "print(len(nums))"
   ]
  },
  {
   "cell_type": "code",
   "execution_count": 4,
   "id": "ac1540d2",
   "metadata": {},
   "outputs": [
    {
     "name": "stdout",
     "output_type": "stream",
     "text": [
      "\n",
      "% extinction birds dataset loaded (8345, 47)\n"
     ]
    }
   ],
   "source": [
    "# Load the data\n",
    "model_template, data = extinction_birds()\n",
    "\n",
    "# Split into training and testing sets\n",
    "train_data, test_data = split_data(data, ratio=0.9, shuffle=True)\n",
    "x_train = []\n",
    "x_test = []\n",
    "y_train = []\n",
    "y_test = []\n",
    "for row in train_data:\n",
    "    x = []\n",
    "    item = row[:-1]\n",
    "    for entry in item:\n",
    "        if isinstance(entry, float):\n",
    "            x.append(float(entry))\n",
    "    count = len(x)\n",
    "    if len(x) == 15:\n",
    "        y = row[-1:]\n",
    "        x_train.append(x)\n",
    "        y_train.append(y[0])\n",
    "\n",
    "for row in test_data:\n",
    "    x = []\n",
    "    item = row[:-1]\n",
    "    for entry in item:\n",
    "        if isinstance(entry, float):\n",
    "            x.append(float(entry))\n",
    "    if len(x) == 15:\n",
    "        y = row[-1:]\n",
    "        x_test.append(x)\n",
    "        y_test.append(y[0])"
   ]
  },
  {
   "cell_type": "code",
   "execution_count": 7,
   "id": "e7e7f50f",
   "metadata": {},
   "outputs": [
    {
     "name": "stdout",
     "output_type": "stream",
     "text": [
      "Accuracy: 0.87\n"
     ]
    }
   ],
   "source": [
    "clf = DecisionTreeClassifier(max_depth=100, random_state=0)\n",
    "clf.fit(x_train, y_train)\n",
    "\n",
    "y_pred = clf.predict(x_test)\n",
    "accuracy = accuracy_score(y_test, y_pred)\n",
    "print(f\"Accuracy: {accuracy:.2f}\")"
   ]
  },
  {
   "cell_type": "code",
   "execution_count": 8,
   "id": "226b42d9",
   "metadata": {},
   "outputs": [
    {
     "name": "stdout",
     "output_type": "stream",
     "text": [
      "Accuracy: 0.90\n"
     ]
    }
   ],
   "source": [
    "clf = RandomForestClassifier(max_depth=100, random_state=0)\n",
    "clf.fit(x_train, y_train)\n",
    "\n",
    "y_pred = clf.predict(x_test)\n",
    "accuracy = accuracy_score(y_test, y_pred)\n",
    "print(f\"Accuracy: {accuracy:.2f}\")"
   ]
  }
 ],
 "metadata": {
  "kernelspec": {
   "display_name": ".venv",
   "language": "python",
   "name": "python3"
  },
  "language_info": {
   "codemirror_mode": {
    "name": "ipython",
    "version": 3
   },
   "file_extension": ".py",
   "mimetype": "text/x-python",
   "name": "python",
   "nbconvert_exporter": "python",
   "pygments_lexer": "ipython3",
   "version": "3.12.3"
  }
 },
 "nbformat": 4,
 "nbformat_minor": 5
}
